{
 "cells": [
  {
   "cell_type": "markdown",
   "id": "888d25ab-eb18-4491-bd2c-646082aef237",
   "metadata": {},
   "source": [
    "# Data Science Tools and Ecosystem\n"
   ]
  },
  {
   "cell_type": "markdown",
   "id": "9bfa1f0f-43ad-476e-8343-543cb671b747",
   "metadata": {},
   "source": [
    "In this notebook, Data Science Tools and Ecosystem are summarized."
   ]
  },
  {
   "cell_type": "markdown",
   "id": "d4ae55fb-7073-49d9-b076-2a9771e4d703",
   "metadata": {},
   "source": [
    "**Objectives:**\r\n",
    "\r\n",
    "- List popular languase.\r\n",
    "- List commonly used librarce.\r\n",
    "- Demonstrate arithmetic expressles in Pytode.\r\n"
   ]
  },
  {
   "cell_type": "markdown",
   "id": "02b9e446-8862-4cf2-9cbd-21dd4291f951",
   "metadata": {},
   "source": [
    "Some of the popular languages that Data Scientists use are:\r\n",
    "1. Python\r\n",
    "2. R\r\n",
    "3. QL\r\n"
   ]
  },
  {
   "cell_type": "markdown",
   "id": "fbfbbb88-7200-4113-a0c4-322e703d22df",
   "metadata": {},
   "source": [
    "Some of the commonly used libraries used by Data Scientists include:\r\n",
    "1. Pandas\r\n",
    "2. NumPy\r\n",
    "3. Matplotlib\r\n",
    "4. Scikit-learn\r\n",
    "5. TensoFlow\r\n"
   ]
  },
  {
   "cell_type": "markdown",
   "id": "d3cb3f7a-d9cc-4392-ab60-58b5da0fdaf6",
   "metadata": {},
   "source": [
    "| Data Science Tools |\r\n",
    "|--------------------|\r\n",
    "| Jupyter Notebook   |\r\n",
    "| RStudio            |\r\n",
    "| Apache Zeppelin   |\r\n"
   ]
  },
  {
   "cell_type": "markdown",
   "id": "fc746a58-e3f5-4405-92a8-a7c4892eb87b",
   "metadata": {},
   "source": [
    "### Below are a few examples of evaluating arithmetic expressions in Python.\n"
   ]
  },
  {
   "cell_type": "code",
   "execution_count": 7,
   "id": "2ada9552-a2c9-4bdf-b29c-7969ef70c6f7",
   "metadata": {},
   "outputs": [
    {
     "data": {
      "text/plain": [
       "17"
      ]
     },
     "execution_count": 7,
     "metadata": {},
     "output_type": "execute_result"
    }
   ],
   "source": [
    "# This is a simple arithmetic expression to multiply then add integers\n",
    "(3 * 4) + 5"
   ]
  },
  {
   "cell_type": "code",
   "execution_count": 9,
   "id": "1eadd8ea-a9fd-411a-8dc6-cfc7197ea2e0",
   "metadata": {},
   "outputs": [
    {
     "data": {
      "text/plain": [
       "3.3333333333333335"
      ]
     },
     "execution_count": 9,
     "metadata": {},
     "output_type": "execute_result"
    }
   ],
   "source": [
    "# This will convert 200 minutes to hours by dividing by 60...\n",
    "200 / 60"
   ]
  },
  {
   "cell_type": "markdown",
   "id": "2fb32f41-5459-470e-bc7c-adc2717b2f4b",
   "metadata": {},
   "source": [
    "## Author\n",
    "Chavez Iglesias Martin Freddy"
   ]
  },
  {
   "cell_type": "code",
   "execution_count": null,
   "id": "07e3bab1-c66c-424e-a521-8729052d0fe6",
   "metadata": {},
   "outputs": [],
   "source": []
  }
 ],
 "metadata": {
  "kernelspec": {
   "display_name": "Python 3 (ipykernel)",
   "language": "python",
   "name": "python3"
  },
  "language_info": {
   "codemirror_mode": {
    "name": "ipython",
    "version": 3
   },
   "file_extension": ".py",
   "mimetype": "text/x-python",
   "name": "python",
   "nbconvert_exporter": "python",
   "pygments_lexer": "ipython3",
   "version": "3.12.4"
  }
 },
 "nbformat": 4,
 "nbformat_minor": 5
}
